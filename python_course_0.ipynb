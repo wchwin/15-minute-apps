{
  "nbformat": 4,
  "nbformat_minor": 0,
  "metadata": {
    "colab": {
      "name": "python_course_0.ipynb",
      "provenance": [],
      "collapsed_sections": [],
      "authorship_tag": "ABX9TyO5pRCK5yNdH0N1VqxlbdvH",
      "include_colab_link": true
    },
    "kernelspec": {
      "name": "python3",
      "display_name": "Python 3"
    }
  },
  "cells": [
    {
      "cell_type": "markdown",
      "metadata": {
        "id": "view-in-github",
        "colab_type": "text"
      },
      "source": [
        "<a href=\"https://colab.research.google.com/github/wchwin/15-minute-apps/blob/master/python_course_0.ipynb\" target=\"_parent\"><img src=\"https://colab.research.google.com/assets/colab-badge.svg\" alt=\"Open In Colab\"/></a>"
      ]
    },
    {
      "cell_type": "code",
      "metadata": {
        "id": "I1Azqxip_uWM",
        "colab_type": "code",
        "outputId": "0e6b0c0e-3667-4e95-edb1-767d840010d4",
        "colab": {
          "base_uri": "https://localhost:8080/",
          "height": 35
        }
      },
      "source": [
        "import random\n",
        "x = random.randint(1,100)\n",
        "print(x)"
      ],
      "execution_count": 0,
      "outputs": [
        {
          "output_type": "stream",
          "text": [
            "36\n"
          ],
          "name": "stdout"
        }
      ]
    },
    {
      "cell_type": "code",
      "metadata": {
        "id": "mW7GuaddAR06",
        "colab_type": "code",
        "outputId": "f37e9279-792c-4313-8bec-02f111b2d98f",
        "colab": {
          "base_uri": "https://localhost:8080/",
          "height": 52
        }
      },
      "source": [
        "class TestClass:\n",
        "  xx = 32\n",
        "  yy = 23\n",
        "  def add(x1,x2):\n",
        "    print(x1+x2)\n",
        "\n",
        "print(TestClass.xx, TestClass.yy)\n",
        "TestClass.add(22,18)"
      ],
      "execution_count": 0,
      "outputs": [
        {
          "output_type": "stream",
          "text": [
            "32 23\n",
            "40\n"
          ],
          "name": "stdout"
        }
      ]
    },
    {
      "cell_type": "code",
      "metadata": {
        "id": "G5k5AQRECCgK",
        "colab_type": "code",
        "outputId": "9131fbaf-9c20-47f5-b2e3-110013da7caa",
        "colab": {
          "base_uri": "https://localhost:8080/",
          "height": 69
        }
      },
      "source": [
        "s = \"python大叔學習坊\"\n",
        "print(\"歡迎進入\",s)\n",
        "print(\"歡迎進入\"+s)\n",
        "print(f\"歡迎進入{s}\")"
      ],
      "execution_count": 0,
      "outputs": [
        {
          "output_type": "stream",
          "text": [
            "歡迎進入 python大叔學習坊\n",
            "歡迎進入python大叔學習坊\n",
            "歡迎進入python大叔學習坊\n"
          ],
          "name": "stdout"
        }
      ]
    }
  ]
}